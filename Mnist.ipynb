{
  "nbformat": 4,
  "nbformat_minor": 0,
  "metadata": {
    "colab": {
      "name": "Mnist.ipynb",
      "provenance": [],
      "authorship_tag": "ABX9TyPFv/nWxO5CXGHNEOZamk9Y",
      "include_colab_link": true
    },
    "kernelspec": {
      "name": "python3",
      "display_name": "Python 3"
    },
    "accelerator": "GPU"
  },
  "cells": [
    {
      "cell_type": "markdown",
      "metadata": {
        "id": "view-in-github",
        "colab_type": "text"
      },
      "source": [
        "<a href=\"https://colab.research.google.com/github/MoMus2000/MNIST-handwritten-number-prediction/blob/master/Mnist.ipynb\" target=\"_parent\"><img src=\"https://colab.research.google.com/assets/colab-badge.svg\" alt=\"Open In Colab\"/></a>"
      ]
    },
    {
      "cell_type": "code",
      "metadata": {
        "id": "az3a8W7LRUKz",
        "colab_type": "code",
        "colab": {}
      },
      "source": [
        "from tensorflow import keras\n",
        "import tensorflow as tf\n",
        "from tensorflow.keras.datasets import mnist\n",
        "import numpy as np\n",
        "from tensorflow.keras import Sequential\n",
        "from tensorflow.keras.layers import Conv2D, Dense , Dropout , BatchNormalization , MaxPooling2D\n",
        "from tensorflow.keras import backend as K\n",
        "from tensorflow.keras.layers import Dropout\n",
        "from tensorflow.keras.preprocessing.image import ImageDataGenerator"
      ],
      "execution_count": 1,
      "outputs": []
    },
    {
      "cell_type": "code",
      "metadata": {
        "id": "4PbJCOHVRtvA",
        "colab_type": "code",
        "colab": {}
      },
      "source": [
        "(x_train, train_labels),(x_test,test_labels) = mnist.load_data()\n",
        "img_rows, img_cols = 28, 28"
      ],
      "execution_count": 2,
      "outputs": []
    },
    {
      "cell_type": "code",
      "metadata": {
        "id": "S3z5x4Ai1i9I",
        "colab_type": "code",
        "colab": {}
      },
      "source": [
        "if K.image_data_format() == 'channels_first':\n",
        "    x_train = x_train.reshape(x_train.shape[0], 1, img_rows, img_cols)\n",
        "    x_test = x_test.reshape(x_test.shape[0], 1, img_rows, img_cols)\n",
        "    input_shape = (1, img_rows, img_cols)\n",
        "else:\n",
        "    x_train = x_train.reshape(x_train.shape[0], img_rows, img_cols, 1)\n",
        "    x_test = x_test.reshape(x_test.shape[0], img_rows, img_cols, 1)\n",
        "    input_shape = (img_rows, img_cols, 1)"
      ],
      "execution_count": 3,
      "outputs": []
    },
    {
      "cell_type": "code",
      "metadata": {
        "id": "aE7qTnPs0a7s",
        "colab_type": "code",
        "colab": {}
      },
      "source": [
        "number_of_classes = 10\n",
        "train_labels = tf.keras.utils.to_categorical(train_labels, number_of_classes)\n",
        "test_labels = tf.keras.utils.to_categorical(test_labels, number_of_classes)"
      ],
      "execution_count": 4,
      "outputs": []
    },
    {
      "cell_type": "code",
      "metadata": {
        "id": "0X_dEp2wR9sd",
        "colab_type": "code",
        "colab": {}
      },
      "source": [
        "train_datagen = ImageDataGenerator(rescale = 1./255,\n",
        "                                   rotation_range = 40,\n",
        "                                   width_shift_range = 0.2,\n",
        "                                   shear_range = 0.2,\n",
        "                                   zoom_range = 0.2,\n",
        "                                   fill_mode = 'nearest')"
      ],
      "execution_count": 5,
      "outputs": []
    },
    {
      "cell_type": "code",
      "metadata": {
        "id": "9-X8UfZJs89c",
        "colab_type": "code",
        "colab": {}
      },
      "source": [
        "val_datagen = ImageDataGenerator(rescale = 1./255.0)"
      ],
      "execution_count": 6,
      "outputs": []
    },
    {
      "cell_type": "code",
      "metadata": {
        "id": "C-7zi85i1oW6",
        "colab_type": "code",
        "colab": {}
      },
      "source": [
        "train_datagen.fit(x_train)\n",
        "val_datagen.fit(x_test)"
      ],
      "execution_count": 7,
      "outputs": []
    },
    {
      "cell_type": "code",
      "metadata": {
        "id": "hzVl_AxmTF1e",
        "colab_type": "code",
        "colab": {}
      },
      "source": [
        "\n",
        "train_iterator = train_datagen.flow(x_train ,train_labels, batch_size=128)\n",
        "test_iterator = val_datagen.flow(x_test,test_labels, batch_size=128)"
      ],
      "execution_count": 8,
      "outputs": []
    },
    {
      "cell_type": "code",
      "metadata": {
        "id": "BbPiQ9GKTImf",
        "colab_type": "code",
        "colab": {}
      },
      "source": [
        "model = Sequential()\n",
        "model.add(Conv2D(32,3, input_shape = (input_shape), kernel_initializer = 'he_normal', padding = 'same',activation = 'relu'))\n",
        "model.add(MaxPooling2D(2,2))\n",
        "model.add(tf.keras.layers.BatchNormalization(axis=-1))\n",
        "model.add(Dropout(0.25))\n",
        "\n",
        "model.add(Conv2D(64,3, kernel_initializer = 'he_normal', padding = 'same',activation = 'relu'))\n",
        "model.add(tf.keras.layers.BatchNormalization(axis=-1))\n",
        "model.add(Conv2D(64,3, kernel_initializer = 'he_normal', padding = 'same',activation = 'relu'))\n",
        "model.add(tf.keras.layers.BatchNormalization(axis=-1))\n",
        "model.add(MaxPooling2D(2,2))\n",
        "model.add(Dropout(0.25))\n",
        "\n",
        "model.add(Conv2D(64,3, kernel_initializer = 'he_normal',  padding = 'same',activation = 'relu'))\n",
        "model.add(tf.keras.layers.BatchNormalization(axis=-1))\n",
        "model.add(Conv2D(64,3, kernel_initializer = 'he_normal',  padding = 'same',activation = 'relu'))\n",
        "model.add(tf.keras.layers.BatchNormalization(axis=-1))\n",
        "model.add(MaxPooling2D(2,2))\n",
        "model.add(Dropout(0.25))\n",
        "\n",
        "model.add(Conv2D(128,3, kernel_initializer = 'he_normal',  padding = 'same',activation = 'relu'))\n",
        "model.add(tf.keras.layers.BatchNormalization(axis=-1))\n",
        "model.add(Conv2D(128,3, kernel_initializer = 'he_normal',  padding = 'same',activation = 'relu'))\n",
        "model.add(tf.keras.layers.BatchNormalization(axis=-1))\n",
        "model.add(MaxPooling2D(2,2))\n",
        "model.add(Dropout(0.25))\n",
        "\n",
        "\n",
        "model.add(tf.keras.layers.Flatten())\n",
        "model.add(Dense(512, activation = 'relu'))\n",
        "model.add(BatchNormalization())\n",
        "model.add(Dropout(0.5))\n",
        "model.add(Dense(256, activation = 'relu'))\n",
        "model.add(BatchNormalization())\n",
        "model.add(Dropout(0.5))\n",
        "model.add(Dense(10 , activation = 'softmax'))\n",
        "\n",
        "model.compile(loss = 'categorical_crossentropy', optimizer = tf.keras.optimizers.Adam(), metrics = ['accuracy'])\n"
      ],
      "execution_count": 9,
      "outputs": []
    },
    {
      "cell_type": "code",
      "metadata": {
        "id": "lEaViKlCoTcm",
        "colab_type": "code",
        "colab": {
          "base_uri": "https://localhost:8080/",
          "height": 564
        },
        "outputId": "3ba1038b-0850-4eaa-a181-7dfcda2fd6ce"
      },
      "source": [
        "model.fit(train_iterator, epochs=15, validation_data=test_iterator , steps_per_epoch=len(train_iterator))"
      ],
      "execution_count": 10,
      "outputs": [
        {
          "output_type": "stream",
          "text": [
            "Epoch 1/15\n",
            "469/469 [==============================] - 16s 34ms/step - loss: 1.2040 - accuracy: 0.6313 - val_loss: 0.1405 - val_accuracy: 0.9562\n",
            "Epoch 2/15\n",
            "469/469 [==============================] - 16s 34ms/step - loss: 0.3042 - accuracy: 0.9069 - val_loss: 0.0989 - val_accuracy: 0.9691\n",
            "Epoch 3/15\n",
            "469/469 [==============================] - 16s 33ms/step - loss: 0.1976 - accuracy: 0.9402 - val_loss: 0.0666 - val_accuracy: 0.9798\n",
            "Epoch 4/15\n",
            "469/469 [==============================] - 16s 34ms/step - loss: 0.1615 - accuracy: 0.9515 - val_loss: 0.0562 - val_accuracy: 0.9826\n",
            "Epoch 5/15\n",
            "469/469 [==============================] - 16s 33ms/step - loss: 0.1358 - accuracy: 0.9598 - val_loss: 0.0480 - val_accuracy: 0.9856\n",
            "Epoch 6/15\n",
            "469/469 [==============================] - 16s 34ms/step - loss: 0.1224 - accuracy: 0.9641 - val_loss: 0.0543 - val_accuracy: 0.9830\n",
            "Epoch 7/15\n",
            "469/469 [==============================] - 16s 34ms/step - loss: 0.1085 - accuracy: 0.9684 - val_loss: 0.0463 - val_accuracy: 0.9855\n",
            "Epoch 8/15\n",
            "469/469 [==============================] - 16s 34ms/step - loss: 0.0995 - accuracy: 0.9706 - val_loss: 0.0572 - val_accuracy: 0.9832\n",
            "Epoch 9/15\n",
            "469/469 [==============================] - 16s 34ms/step - loss: 0.0950 - accuracy: 0.9729 - val_loss: 0.0525 - val_accuracy: 0.9842\n",
            "Epoch 10/15\n",
            "469/469 [==============================] - 16s 34ms/step - loss: 0.0905 - accuracy: 0.9733 - val_loss: 0.0393 - val_accuracy: 0.9878\n",
            "Epoch 11/15\n",
            "469/469 [==============================] - 16s 34ms/step - loss: 0.0843 - accuracy: 0.9761 - val_loss: 0.0342 - val_accuracy: 0.9901\n",
            "Epoch 12/15\n",
            "469/469 [==============================] - 16s 34ms/step - loss: 0.0813 - accuracy: 0.9764 - val_loss: 0.0521 - val_accuracy: 0.9842\n",
            "Epoch 13/15\n",
            "469/469 [==============================] - 16s 34ms/step - loss: 0.0774 - accuracy: 0.9779 - val_loss: 0.0411 - val_accuracy: 0.9885\n",
            "Epoch 14/15\n",
            "469/469 [==============================] - 16s 35ms/step - loss: 0.0725 - accuracy: 0.9795 - val_loss: 0.0305 - val_accuracy: 0.9910\n",
            "Epoch 15/15\n",
            "469/469 [==============================] - 16s 34ms/step - loss: 0.0706 - accuracy: 0.9794 - val_loss: 0.0377 - val_accuracy: 0.9878\n"
          ],
          "name": "stdout"
        },
        {
          "output_type": "execute_result",
          "data": {
            "text/plain": [
              "<tensorflow.python.keras.callbacks.History at 0x7fb6c51dd5c0>"
            ]
          },
          "metadata": {
            "tags": []
          },
          "execution_count": 10
        }
      ]
    },
    {
      "cell_type": "code",
      "metadata": {
        "id": "QOt3gxMJ32PV",
        "colab_type": "code",
        "colab": {
          "base_uri": "https://localhost:8080/",
          "height": 122
        },
        "outputId": "302abd3c-0758-4c7c-aa5a-8a5faec4cd55"
      },
      "source": [
        "from google.colab import drive\n",
        "drive.mount('/content/drive')"
      ],
      "execution_count": 11,
      "outputs": [
        {
          "output_type": "stream",
          "text": [
            "Go to this URL in a browser: https://accounts.google.com/o/oauth2/auth?client_id=947318989803-6bn6qk8qdgf4n4g3pfee6491hc0brc4i.apps.googleusercontent.com&redirect_uri=urn%3aietf%3awg%3aoauth%3a2.0%3aoob&response_type=code&scope=email%20https%3a%2f%2fwww.googleapis.com%2fauth%2fdocs.test%20https%3a%2f%2fwww.googleapis.com%2fauth%2fdrive%20https%3a%2f%2fwww.googleapis.com%2fauth%2fdrive.photos.readonly%20https%3a%2f%2fwww.googleapis.com%2fauth%2fpeopleapi.readonly\n",
            "\n",
            "Enter your authorization code:\n",
            "··········\n",
            "Mounted at /content/drive\n"
          ],
          "name": "stdout"
        }
      ]
    },
    {
      "cell_type": "code",
      "metadata": {
        "id": "iJaRnzsP3-Zc",
        "colab_type": "code",
        "colab": {
          "base_uri": "https://localhost:8080/",
          "height": 105
        },
        "outputId": "cf31c1db-c45b-4faf-a1f2-b7394eaf5902"
      },
      "source": [
        "model.save('/content/drive/My Drive/mnist')"
      ],
      "execution_count": 12,
      "outputs": [
        {
          "output_type": "stream",
          "text": [
            "WARNING:tensorflow:From /usr/local/lib/python3.6/dist-packages/tensorflow/python/ops/resource_variable_ops.py:1817: calling BaseResourceVariable.__init__ (from tensorflow.python.ops.resource_variable_ops) with constraint is deprecated and will be removed in a future version.\n",
            "Instructions for updating:\n",
            "If using Keras pass *_constraint arguments to layers.\n",
            "INFO:tensorflow:Assets written to: /content/drive/My Drive/mnist/assets\n"
          ],
          "name": "stdout"
        }
      ]
    }
  ]
}